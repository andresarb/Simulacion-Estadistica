{
  "nbformat": 4,
  "nbformat_minor": 0,
  "metadata": {
    "colab": {
      "provenance": [],
      "collapsed_sections": [],
      "include_colab_link": true
    },
    "kernelspec": {
      "name": "ir",
      "display_name": "R"
    }
  },
  "cells": [
    {
      "cell_type": "markdown",
      "metadata": {
        "id": "view-in-github",
        "colab_type": "text"
      },
      "source": [
        "<a href=\"https://colab.research.google.com/github/andresarb/Simulacion-Estadistica/blob/main/TareaColas.ipynb\" target=\"_parent\"><img src=\"https://colab.research.google.com/assets/colab-badge.svg\" alt=\"Open In Colab\"/></a>"
      ]
    },
    {
      "cell_type": "markdown",
      "source": [
        "#TAREA: MODELOS DE COLAS"
      ],
      "metadata": {
        "id": "8ud2205DhHq4"
      }
    },
    {
      "cell_type": "markdown",
      "source": [
        "Presentado por: Guillermo Andrés Arboleda Garzón"
      ],
      "metadata": {
        "id": "YiZYIr_8hQP-"
      }
    },
    {
      "cell_type": "markdown",
      "source": [
        "### 1.\tSe supone que, en un restaurante de comidas, el cual llegan en promedio 100 clientes por hora, se tiene capacidad para atender en promedio a 150 clientes por hora, se sabe que los clientes esperan en promedio 2 minutos en la cola."
      ],
      "metadata": {
        "id": "DZvYS0u-g_Jy"
      }
    },
    {
      "cell_type": "code",
      "source": [
        "mu=(150/60)\n",
        "lambda=(100/60)\n",
        "Wq=2\n",
        "\n",
        "#a. Hallando la probabilidad de que el sistema esté ocioso:\n",
        "cat(\"La probabilidad de que el sistema esté ocioso es de:\",(1-(lambda/mu)))\n",
        "\n",
        "#b. Hallando la probabilidad de que un cliente llegue y tenga que esperar:\n",
        "cat(\"\\nLa probabilidad de que un cliente llegue y tenga que esperar es de:\",(lambda/mu)*(1-(lambda/mu)))\n",
        "\n",
        "#c. Hallando el numero promedio de clientes en la cola:\n",
        "cat(\"\\nEl numero de esperado de clientes en la cola cuando existe es de:\",round(lambda*Wq))"
      ],
      "metadata": {
        "id": "lg456GQ5g9JK",
        "outputId": "71550992-9122-429b-b1ee-e040606c0925",
        "colab": {
          "base_uri": "https://localhost:8080/"
        }
      },
      "execution_count": null,
      "outputs": [
        {
          "output_type": "stream",
          "name": "stdout",
          "text": [
            "La probabilidad de que el sistema esté ocioso es de: 0.3333333\n",
            "La probabilidad de que un cliente llegue y tenga que esperar es de: 0.2222222\n",
            "El numero de esperado de clientes en la cola cuando existe es de: 3"
          ]
        }
      ]
    },
    {
      "cell_type": "markdown",
      "source": [
        "Generando el modelo en R:"
      ],
      "metadata": {
        "id": "PtkHS3vSu7or"
      }
    },
    {
      "cell_type": "code",
      "source": [
        "library(queueing)\n",
        "env.MM1=NewInput.MM1(lambda=100/60,mu=150/60,n=4)\n",
        "QueueingModel(env.MM1)"
      ],
      "metadata": {
        "colab": {
          "base_uri": "https://localhost:8080/",
          "height": 1350
        },
        "id": "IbNeA_JVu21v",
        "outputId": "eb007738-ffb5-4539-8bd3-cb3595219ead"
      },
      "execution_count": null,
      "outputs": [
        {
          "output_type": "display_data",
          "data": {
            "text/plain": [
              "$Inputs\n",
              "$lambda\n",
              "[1] 1.666667\n",
              "\n",
              "$mu\n",
              "[1] 2.5\n",
              "\n",
              "$n\n",
              "[1] 4\n",
              "\n",
              "attr(,\"class\")\n",
              "[1] \"i_MM1\"\n",
              "\n",
              "$RO\n",
              "[1] 0.6666667\n",
              "\n",
              "$Lq\n",
              "[1] 1.333333\n",
              "\n",
              "$VNq\n",
              "[1] 4.888889\n",
              "\n",
              "$Wq\n",
              "[1] 0.8\n",
              "\n",
              "$VTq\n",
              "[1] 1.28\n",
              "\n",
              "$Throughput\n",
              "[1] 1.666667\n",
              "\n",
              "$L\n",
              "[1] 2\n",
              "\n",
              "$VN\n",
              "[1] 6\n",
              "\n",
              "$W\n",
              "[1] 1.2\n",
              "\n",
              "$VT\n",
              "[1] 1.44\n",
              "\n",
              "$Wqq\n",
              "[1] 1.2\n",
              "\n",
              "$Lqq\n",
              "[1] 3\n",
              "\n",
              "$Pn\n",
              "[1] 0.33333333 0.22222222 0.14814815 0.09876543 0.06584362\n",
              "\n",
              "$Qn\n",
              "[1] 0.33333333 0.22222222 0.14814815 0.09876543 0.06584362\n",
              "\n",
              "$FW\n",
              "function (t) \n",
              "{\n",
              "    1 - exp(-t/W)\n",
              "}\n",
              "<bytecode: 0x55cb5fcf1380>\n",
              "<environment: 0x55cb605d8890>\n",
              "\n",
              "$FWq\n",
              "function (t) \n",
              "{\n",
              "    1 - (RO * exp(-t/W))\n",
              "}\n",
              "<bytecode: 0x55cb5fce8270>\n",
              "<environment: 0x55cb605d8890>\n",
              "\n",
              "attr(,\"class\")\n",
              "[1] \"o_MM1\""
            ]
          },
          "metadata": {}
        }
      ]
    },
    {
      "cell_type": "markdown",
      "source": [
        "### 2. A una tienda atendida por una persona, el patrón de llegadas de clientes durante los sábados se comporta siguiendo un proceso de Poisson con un promedio de 10 personas por hora. Se estima que el tiempo que lleva atender a un cliente se distribuye como una exponencial con una media de 4 minutos."
      ],
      "metadata": {
        "id": "CqSxkH40hdH6"
      }
    },
    {
      "cell_type": "code",
      "source": [
        "lambda=10\n",
        "mu=60/4\n",
        "Wq=((lambda)/(mu*(mu-lambda)))\n",
        "\n",
        "#a. Hallando la probabilidad de que halla linea de espera, es decir, P(x ≥ 1) (pues sólo hay una persona atendiendo):/*\n",
        "cat(\"La probabilidad de que haya línea de espera es de: 1-(Po+P1)=\",1-((lambda/mu)*(1-(lambda/mu))+(1-(lambda/mu))))\n",
        "\n",
        "#b. Hallando el numero promedio de clientes en la cola:\n",
        "cat(\"\\nEl numero promedio de clientes en la cola es de:\",round(lambda*Wq))\n",
        "\n",
        "#c. Hallando el tiempo promedio que un cliente tarda en la cola:\n",
        "cat(\"\\nEl tiempo promedio que un cliente tarda en la cola es de:\",Wq,\"hrs\")"
      ],
      "metadata": {
        "id": "pXkrp_S7hf2J",
        "outputId": "6d794e42-06d2-45d7-8564-74903bd322fa",
        "colab": {
          "base_uri": "https://localhost:8080/"
        }
      },
      "execution_count": 7,
      "outputs": [
        {
          "output_type": "stream",
          "name": "stdout",
          "text": [
            "La probabilidad de que haya línea de espera es de: 1-(Po+P1)= 0.4444444\n",
            "El numero promedio de clientes en la cola es de: 1\n",
            "El tiempo promedio que un cliente tarda en la cola es de: 0.1333333 hrs"
          ]
        }
      ]
    },
    {
      "cell_type": "markdown",
      "source": [
        "Generando el modelo en R:"
      ],
      "metadata": {
        "id": "4w69EYls1wsQ"
      }
    },
    {
      "cell_type": "code",
      "source": [
        "library(queueing)\n",
        "env.MM1=NewInput.MM1(lambda=10,mu=60/4)\n",
        "QueueingModel(env.MM1)"
      ],
      "metadata": {
        "outputId": "d301159d-6807-4154-d8e5-fff5213eb3bc",
        "colab": {
          "base_uri": "https://localhost:8080/",
          "height": 1350
        },
        "id": "Rdl-H4xJ1yvY"
      },
      "execution_count": null,
      "outputs": [
        {
          "output_type": "display_data",
          "data": {
            "text/plain": [
              "$Inputs\n",
              "$lambda\n",
              "[1] 10\n",
              "\n",
              "$mu\n",
              "[1] 15\n",
              "\n",
              "$n\n",
              "[1] 0\n",
              "\n",
              "attr(,\"class\")\n",
              "[1] \"i_MM1\"\n",
              "\n",
              "$RO\n",
              "[1] 0.6666667\n",
              "\n",
              "$Lq\n",
              "[1] 1.333333\n",
              "\n",
              "$VNq\n",
              "[1] 4.888889\n",
              "\n",
              "$Wq\n",
              "[1] 0.1333333\n",
              "\n",
              "$VTq\n",
              "[1] 0.03555556\n",
              "\n",
              "$Throughput\n",
              "[1] 10\n",
              "\n",
              "$L\n",
              "[1] 2\n",
              "\n",
              "$VN\n",
              "[1] 6\n",
              "\n",
              "$W\n",
              "[1] 0.2\n",
              "\n",
              "$VT\n",
              "[1] 0.04\n",
              "\n",
              "$Wqq\n",
              "[1] 0.2\n",
              "\n",
              "$Lqq\n",
              "[1] 3\n",
              "\n",
              "$Pn\n",
              "[1] 0.3333333\n",
              "\n",
              "$Qn\n",
              "[1] 0.3333333\n",
              "\n",
              "$FW\n",
              "function (t) \n",
              "{\n",
              "    1 - exp(-t/W)\n",
              "}\n",
              "<bytecode: 0x55cb5fcf1380>\n",
              "<environment: 0x55cb61658580>\n",
              "\n",
              "$FWq\n",
              "function (t) \n",
              "{\n",
              "    1 - (RO * exp(-t/W))\n",
              "}\n",
              "<bytecode: 0x55cb5fce8270>\n",
              "<environment: 0x55cb61658580>\n",
              "\n",
              "attr(,\"class\")\n",
              "[1] \"o_MM1\""
            ]
          },
          "metadata": {}
        }
      ]
    }
  ]
}